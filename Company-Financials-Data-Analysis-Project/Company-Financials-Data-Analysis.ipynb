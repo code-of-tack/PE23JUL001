{
 "cells": [
  {
   "cell_type": "markdown",
   "id": "4df0aef7-dccd-4953-9549-6c952fcc4936",
   "metadata": {},
   "source": [
    "# <font size='7'><font color='Blue'>Company Financials Data Analysis</font>\n",
    " > #### *Analyzing Financial Data of a Company for Strategic Insights*\n",
    "\n",
    "## Introduction\r\n",
    "This data analytics project focuses on conducting a comprehensive analysis of a company's financial data to gain insights into various aspects of the business. By employing data preparation techniques, discount analysis, profit margin analysis, regression analysis, and polynomial regression, we aim to uncover valuable information that can inform business decisions and strategies."
   ]
  },
  {
   "cell_type": "markdown",
   "id": "0a232ead-de08-4221-8949-bca074842699",
   "metadata": {},
   "source": [
    "## Data Used\n",
    "The primary dataset utilized in this project is obtained from https://www.kaggle.com/datasets/atharvaarya25/financials. It contains essential information related to sales transactions, including details such as product, pricing, discounts, costs, and various time-related attributes.\n",
    "\n",
    "The dataset is structured with the following columns:\n",
    "\n",
    "- Segment\n",
    "- Country\n",
    "- Product\n",
    "- Discount Band\n",
    "- Units Sold\n",
    "- Manufacturing Price\n",
    "- Sale Price\n",
    "- Gross Sales\n",
    "- Discounts\n",
    "- Sales\n",
    "- Cost of Goods Sold (COGS)\n",
    "- Profit\n",
    "- Date\n",
    "- Month Number\n",
    "- Month Name\n",
    "- Year"
   ]
  },
  {
   "cell_type": "markdown",
   "id": "a0c02d52-8c45-44b8-9efc-2e7ce5668a2c",
   "metadata": {},
   "source": [
    "## Tools\n",
    "To conduct this analysis, we employed the following Python libraries and tools:\n",
    "\n",
    "- Pandas: Data manipulation and analysis.\n",
    "- Numpy: Numerical operations and array manipulation.\n",
    "- Matplotlib: Data visualization.\n",
    "- Seaborn: Enhanced data visualization.\n",
    "- Scikit-learn: Machine learning tools for regression analysis."
   ]
  },
  {
   "cell_type": "markdown",
   "id": "543fe4f9-7c0d-4cc5-8987-037618d7fc11",
   "metadata": {},
   "source": [
    "## Objective\n",
    "Our project has the following objectives:\n",
    "\n",
    "1. Perform comprehensive exploratory data analysis (EDA) on the financial dataset.\n",
    "2. Quantify the influence of discounts on gross sales, identifying optimal discount levels.\n",
    "3. Calculate, visualize, and interpret profit margins, highlighting areas for improvement.\n",
    "4. Explore relationships between discount levels and profit using simple linear regression.\n",
    "5. Analyze the correlation between product prices and units sold using simple linear regression.\n",
    "6. Determine the impact of the month of the year on gross sales through polynomial regression"
   ]
  },
  {
   "cell_type": "markdown",
   "id": "ff09bcd8-3948-42bc-b0b3-4c0ce68f9246",
   "metadata": {},
   "source": [
    "## Targeted Problem\n",
    "This project addresses the following key problem areas using the company's financial data:\n",
    "\n",
    "1. Assessing the impact of discounts on gross sales.\n",
    "2. Analyzing profit margins and their distribution.\n",
    "3. Investigating relationships between discount levels and profit.\n",
    "4. Evaluating the effect of product prices on units sold.\n",
    "6. Understanding the influence of the month on gross sales."
   ]
  },
  {
   "cell_type": "markdown",
   "id": "484067d0-3ef8-4f97-9e78-c07cfabfc106",
   "metadata": {},
   "source": [
    "## Analysis:-"
   ]
  },
  {
   "cell_type": "markdown",
   "id": "adffee19-3cf9-4dd6-b948-fd83dba69982",
   "metadata": {},
   "source": [
    "### Importing Necessary Libraries"
   ]
  },
  {
   "cell_type": "code",
   "execution_count": 1,
   "id": "e5b3f357-fcf9-4021-95d8-dbf57733b9d0",
   "metadata": {},
   "outputs": [],
   "source": [
    "import numpy as np\n",
    "import pandas as pd\n",
    "import matplotlib.pyplot as plt\n",
    "import seaborn as sns\n",
    "from sklearn.linear_model import LinearRegression\n",
    "from sklearn.preprocessing import PolynomialFeatures"
   ]
  },
  {
   "cell_type": "markdown",
   "id": "d6cb1897-609d-4973-9dba-7297face83bd",
   "metadata": {},
   "source": [
    "### Step 1: Data Preparation"
   ]
  },
  {
   "cell_type": "markdown",
   "id": "00820aa4-8ee9-463a-b92a-9d415cdf60f5",
   "metadata": {},
   "source": [
    "#### 1.1 Load the Dataset\n",
    "- Download the dataset from the provided URL and load it into a pandas dataframe."
   ]
  },
  {
   "cell_type": "code",
   "execution_count": 3,
   "id": "5c4b2246-47e2-4aff-b713-b25d01c3292f",
   "metadata": {},
   "outputs": [],
   "source": [
    "df = pd.read_csv(\"D:\\Comapny Financial Datasets\\Financials.csv\")"
   ]
  },
  {
   "cell_type": "markdown",
   "id": "3c0826d7-6fef-4800-98dd-758c2d9fb96c",
   "metadata": {},
   "source": [
    "##### Previewing The Datset"
   ]
  },
  {
   "cell_type": "code",
   "execution_count": 4,
   "id": "81da4865-7eb0-4faf-a08b-c96b5b650494",
   "metadata": {},
   "outputs": [
    {
     "data": {
      "text/html": [
       "<div>\n",
       "<style scoped>\n",
       "    .dataframe tbody tr th:only-of-type {\n",
       "        vertical-align: middle;\n",
       "    }\n",
       "\n",
       "    .dataframe tbody tr th {\n",
       "        vertical-align: top;\n",
       "    }\n",
       "\n",
       "    .dataframe thead th {\n",
       "        text-align: right;\n",
       "    }\n",
       "</style>\n",
       "<table border=\"1\" class=\"dataframe\">\n",
       "  <thead>\n",
       "    <tr style=\"text-align: right;\">\n",
       "      <th></th>\n",
       "      <th>Segment</th>\n",
       "      <th>Country</th>\n",
       "      <th>Product</th>\n",
       "      <th>Discount Band</th>\n",
       "      <th>Units Sold</th>\n",
       "      <th>Manufacturing Price</th>\n",
       "      <th>Sale Price</th>\n",
       "      <th>Gross Sales</th>\n",
       "      <th>Discounts</th>\n",
       "      <th>Sales</th>\n",
       "      <th>COGS</th>\n",
       "      <th>Profit</th>\n",
       "      <th>Date</th>\n",
       "      <th>Month Number</th>\n",
       "      <th>Month Name</th>\n",
       "      <th>Year</th>\n",
       "    </tr>\n",
       "  </thead>\n",
       "  <tbody>\n",
       "    <tr>\n",
       "      <th>0</th>\n",
       "      <td>Government</td>\n",
       "      <td>Canada</td>\n",
       "      <td>Carretera</td>\n",
       "      <td>None</td>\n",
       "      <td>$1,618.50</td>\n",
       "      <td>$3.00</td>\n",
       "      <td>$20.00</td>\n",
       "      <td>$32,370.00</td>\n",
       "      <td>$-</td>\n",
       "      <td>$32,370.00</td>\n",
       "      <td>$16,185.00</td>\n",
       "      <td>$16,185.00</td>\n",
       "      <td>01/01/2014</td>\n",
       "      <td>1</td>\n",
       "      <td>January</td>\n",
       "      <td>2014</td>\n",
       "    </tr>\n",
       "    <tr>\n",
       "      <th>1</th>\n",
       "      <td>Government</td>\n",
       "      <td>Germany</td>\n",
       "      <td>Carretera</td>\n",
       "      <td>None</td>\n",
       "      <td>$1,321.00</td>\n",
       "      <td>$3.00</td>\n",
       "      <td>$20.00</td>\n",
       "      <td>$26,420.00</td>\n",
       "      <td>$-</td>\n",
       "      <td>$26,420.00</td>\n",
       "      <td>$13,210.00</td>\n",
       "      <td>$13,210.00</td>\n",
       "      <td>01/01/2014</td>\n",
       "      <td>1</td>\n",
       "      <td>January</td>\n",
       "      <td>2014</td>\n",
       "    </tr>\n",
       "    <tr>\n",
       "      <th>2</th>\n",
       "      <td>Midmarket</td>\n",
       "      <td>France</td>\n",
       "      <td>Carretera</td>\n",
       "      <td>None</td>\n",
       "      <td>$2,178.00</td>\n",
       "      <td>$3.00</td>\n",
       "      <td>$15.00</td>\n",
       "      <td>$32,670.00</td>\n",
       "      <td>$-</td>\n",
       "      <td>$32,670.00</td>\n",
       "      <td>$21,780.00</td>\n",
       "      <td>$10,890.00</td>\n",
       "      <td>01/06/2014</td>\n",
       "      <td>6</td>\n",
       "      <td>June</td>\n",
       "      <td>2014</td>\n",
       "    </tr>\n",
       "    <tr>\n",
       "      <th>3</th>\n",
       "      <td>Midmarket</td>\n",
       "      <td>Germany</td>\n",
       "      <td>Carretera</td>\n",
       "      <td>None</td>\n",
       "      <td>$888.00</td>\n",
       "      <td>$3.00</td>\n",
       "      <td>$15.00</td>\n",
       "      <td>$13,320.00</td>\n",
       "      <td>$-</td>\n",
       "      <td>$13,320.00</td>\n",
       "      <td>$8,880.00</td>\n",
       "      <td>$4,440.00</td>\n",
       "      <td>01/06/2014</td>\n",
       "      <td>6</td>\n",
       "      <td>June</td>\n",
       "      <td>2014</td>\n",
       "    </tr>\n",
       "    <tr>\n",
       "      <th>4</th>\n",
       "      <td>Midmarket</td>\n",
       "      <td>Mexico</td>\n",
       "      <td>Carretera</td>\n",
       "      <td>None</td>\n",
       "      <td>$2,470.00</td>\n",
       "      <td>$3.00</td>\n",
       "      <td>$15.00</td>\n",
       "      <td>$37,050.00</td>\n",
       "      <td>$-</td>\n",
       "      <td>$37,050.00</td>\n",
       "      <td>$24,700.00</td>\n",
       "      <td>$12,350.00</td>\n",
       "      <td>01/06/2014</td>\n",
       "      <td>6</td>\n",
       "      <td>June</td>\n",
       "      <td>2014</td>\n",
       "    </tr>\n",
       "  </tbody>\n",
       "</table>\n",
       "</div>"
      ],
      "text/plain": [
       "      Segment  Country     Product   Discount Band   Units Sold   \\\n",
       "0  Government   Canada   Carretera            None    $1,618.50    \n",
       "1  Government  Germany   Carretera            None    $1,321.00    \n",
       "2   Midmarket   France   Carretera            None    $2,178.00    \n",
       "3   Midmarket  Germany   Carretera            None      $888.00    \n",
       "4   Midmarket   Mexico   Carretera            None    $2,470.00    \n",
       "\n",
       "   Manufacturing Price   Sale Price   Gross Sales   Discounts         Sales   \\\n",
       "0                $3.00       $20.00    $32,370.00        $-      $32,370.00    \n",
       "1                $3.00       $20.00    $26,420.00        $-      $26,420.00    \n",
       "2                $3.00       $15.00    $32,670.00        $-      $32,670.00    \n",
       "3                $3.00       $15.00    $13,320.00        $-      $13,320.00    \n",
       "4                $3.00       $15.00    $37,050.00        $-      $37,050.00    \n",
       "\n",
       "          COGS        Profit         Date  Month Number  Month Name   Year  \n",
       "0   $16,185.00    $16,185.00   01/01/2014             1     January   2014  \n",
       "1   $13,210.00    $13,210.00   01/01/2014             1     January   2014  \n",
       "2   $21,780.00    $10,890.00   01/06/2014             6        June   2014  \n",
       "3    $8,880.00     $4,440.00   01/06/2014             6        June   2014  \n",
       "4   $24,700.00    $12,350.00   01/06/2014             6        June   2014  "
      ]
     },
     "execution_count": 4,
     "metadata": {},
     "output_type": "execute_result"
    }
   ],
   "source": [
    "df.head()"
   ]
  },
  {
   "cell_type": "code",
   "execution_count": 5,
   "id": "80f90352-e745-44b9-bfc1-cbd691c8365e",
   "metadata": {},
   "outputs": [
    {
     "data": {
      "text/plain": [
       "Index(['Segment', 'Country', ' Product ', ' Discount Band ', ' Units Sold ',\n",
       "       ' Manufacturing Price ', ' Sale Price ', ' Gross Sales ', ' Discounts ',\n",
       "       '  Sales ', ' COGS ', ' Profit ', 'Date', 'Month Number',\n",
       "       ' Month Name ', 'Year'],\n",
       "      dtype='object')"
      ]
     },
     "execution_count": 5,
     "metadata": {},
     "output_type": "execute_result"
    }
   ],
   "source": [
    "df.columns"
   ]
  },
  {
   "cell_type": "markdown",
   "id": "30d0f7b6-f9f4-4354-9c4c-77b4fe344ac3",
   "metadata": {},
   "source": [
    "#### 1.2 Handling Pre-processing issues"
   ]
  },
  {
   "cell_type": "markdown",
   "id": "e3949da1-260e-4afc-85e6-dc95e6275912",
   "metadata": {},
   "source": [
    "* As we can see the column names have unnecessary spaces present in them that needs to be changed"
   ]
  },
  {
   "cell_type": "code",
   "execution_count": 6,
   "id": "12b5349d-383f-4e82-892a-305a76f4bf3c",
   "metadata": {},
   "outputs": [],
   "source": [
    "df.rename(columns = {' Product ':'Product', ' Discount Band ':'Discount Band', ' Units Sold ':'Units Sold',\n",
    "       ' Manufacturing Price ':'Manufacturing Price', ' Sale Price ':'Sale Price', ' Gross Sales ':'Gross Sales', ' Discounts ':'Discounts',\n",
    "       '  Sales ':'Sales', ' COGS ':'COGS', ' Profit ':'Profit',\n",
    "       ' Month Name ':'Month Name'}, inplace = True)"
   ]
  },
  {
   "cell_type": "markdown",
   "id": "19a4c140-785c-4301-9e96-349d71123ff9",
   "metadata": {},
   "source": [
    "* Removing '$' from the data"
   ]
  },
  {
   "cell_type": "code",
   "execution_count": 7,
   "id": "f59bf0ce-f5d9-439a-ab74-508091721bf1",
   "metadata": {},
   "outputs": [],
   "source": [
    "df = df.replace({'\\$':''}, regex = True)"
   ]
  },
  {
   "cell_type": "markdown",
   "id": "a9a0744a-d03b-4d6c-bbb7-8635d3878444",
   "metadata": {},
   "source": [
    "* Removing ',' from the data"
   ]
  },
  {
   "cell_type": "code",
   "execution_count": 8,
   "id": "fe974294-03df-47bc-a1f4-8a232bece4a8",
   "metadata": {},
   "outputs": [],
   "source": [
    "df = df.replace({'\\,':''}, regex = True)"
   ]
  },
  {
   "cell_type": "markdown",
   "id": "7cf71c63-f852-47e6-be41-8dcf3342aedd",
   "metadata": {},
   "source": [
    "* Replacing '-' from 0 in the dataset"
   ]
  },
  {
   "cell_type": "code",
   "execution_count": 9,
   "id": "04ebf64a-5ddc-4153-9c9a-4906d1201895",
   "metadata": {},
   "outputs": [],
   "source": [
    "df = df.replace({'\\-':'0'}, regex = True)  "
   ]
  },
  {
   "cell_type": "code",
   "execution_count": 10,
   "id": "9072fe2e-81d5-4fbe-80ea-fa249e3e511b",
   "metadata": {},
   "outputs": [
    {
     "data": {
      "text/html": [
       "<div>\n",
       "<style scoped>\n",
       "    .dataframe tbody tr th:only-of-type {\n",
       "        vertical-align: middle;\n",
       "    }\n",
       "\n",
       "    .dataframe tbody tr th {\n",
       "        vertical-align: top;\n",
       "    }\n",
       "\n",
       "    .dataframe thead th {\n",
       "        text-align: right;\n",
       "    }\n",
       "</style>\n",
       "<table border=\"1\" class=\"dataframe\">\n",
       "  <thead>\n",
       "    <tr style=\"text-align: right;\">\n",
       "      <th></th>\n",
       "      <th>Segment</th>\n",
       "      <th>Country</th>\n",
       "      <th>Product</th>\n",
       "      <th>Discount Band</th>\n",
       "      <th>Units Sold</th>\n",
       "      <th>Manufacturing Price</th>\n",
       "      <th>Sale Price</th>\n",
       "      <th>Gross Sales</th>\n",
       "      <th>Discounts</th>\n",
       "      <th>Sales</th>\n",
       "      <th>COGS</th>\n",
       "      <th>Profit</th>\n",
       "      <th>Date</th>\n",
       "      <th>Month Number</th>\n",
       "      <th>Month Name</th>\n",
       "      <th>Year</th>\n",
       "    </tr>\n",
       "  </thead>\n",
       "  <tbody>\n",
       "    <tr>\n",
       "      <th>0</th>\n",
       "      <td>Government</td>\n",
       "      <td>Canada</td>\n",
       "      <td>Carretera</td>\n",
       "      <td>None</td>\n",
       "      <td>1618.50</td>\n",
       "      <td>3.00</td>\n",
       "      <td>20.00</td>\n",
       "      <td>32370.00</td>\n",
       "      <td>0</td>\n",
       "      <td>32370.00</td>\n",
       "      <td>16185.00</td>\n",
       "      <td>16185.00</td>\n",
       "      <td>01/01/2014</td>\n",
       "      <td>1</td>\n",
       "      <td>January</td>\n",
       "      <td>2014</td>\n",
       "    </tr>\n",
       "    <tr>\n",
       "      <th>1</th>\n",
       "      <td>Government</td>\n",
       "      <td>Germany</td>\n",
       "      <td>Carretera</td>\n",
       "      <td>None</td>\n",
       "      <td>1321.00</td>\n",
       "      <td>3.00</td>\n",
       "      <td>20.00</td>\n",
       "      <td>26420.00</td>\n",
       "      <td>0</td>\n",
       "      <td>26420.00</td>\n",
       "      <td>13210.00</td>\n",
       "      <td>13210.00</td>\n",
       "      <td>01/01/2014</td>\n",
       "      <td>1</td>\n",
       "      <td>January</td>\n",
       "      <td>2014</td>\n",
       "    </tr>\n",
       "    <tr>\n",
       "      <th>2</th>\n",
       "      <td>Midmarket</td>\n",
       "      <td>France</td>\n",
       "      <td>Carretera</td>\n",
       "      <td>None</td>\n",
       "      <td>2178.00</td>\n",
       "      <td>3.00</td>\n",
       "      <td>15.00</td>\n",
       "      <td>32670.00</td>\n",
       "      <td>0</td>\n",
       "      <td>32670.00</td>\n",
       "      <td>21780.00</td>\n",
       "      <td>10890.00</td>\n",
       "      <td>01/06/2014</td>\n",
       "      <td>6</td>\n",
       "      <td>June</td>\n",
       "      <td>2014</td>\n",
       "    </tr>\n",
       "    <tr>\n",
       "      <th>3</th>\n",
       "      <td>Midmarket</td>\n",
       "      <td>Germany</td>\n",
       "      <td>Carretera</td>\n",
       "      <td>None</td>\n",
       "      <td>888.00</td>\n",
       "      <td>3.00</td>\n",
       "      <td>15.00</td>\n",
       "      <td>13320.00</td>\n",
       "      <td>0</td>\n",
       "      <td>13320.00</td>\n",
       "      <td>8880.00</td>\n",
       "      <td>4440.00</td>\n",
       "      <td>01/06/2014</td>\n",
       "      <td>6</td>\n",
       "      <td>June</td>\n",
       "      <td>2014</td>\n",
       "    </tr>\n",
       "    <tr>\n",
       "      <th>4</th>\n",
       "      <td>Midmarket</td>\n",
       "      <td>Mexico</td>\n",
       "      <td>Carretera</td>\n",
       "      <td>None</td>\n",
       "      <td>2470.00</td>\n",
       "      <td>3.00</td>\n",
       "      <td>15.00</td>\n",
       "      <td>37050.00</td>\n",
       "      <td>0</td>\n",
       "      <td>37050.00</td>\n",
       "      <td>24700.00</td>\n",
       "      <td>12350.00</td>\n",
       "      <td>01/06/2014</td>\n",
       "      <td>6</td>\n",
       "      <td>June</td>\n",
       "      <td>2014</td>\n",
       "    </tr>\n",
       "  </tbody>\n",
       "</table>\n",
       "</div>"
      ],
      "text/plain": [
       "      Segment  Country      Product Discount Band Units Sold  \\\n",
       "0  Government   Canada   Carretera          None    1618.50    \n",
       "1  Government  Germany   Carretera          None    1321.00    \n",
       "2   Midmarket   France   Carretera          None    2178.00    \n",
       "3   Midmarket  Germany   Carretera          None     888.00    \n",
       "4   Midmarket   Mexico   Carretera          None    2470.00    \n",
       "\n",
       "  Manufacturing Price Sale Price Gross Sales Discounts       Sales  \\\n",
       "0               3.00      20.00    32370.00       0      32370.00    \n",
       "1               3.00      20.00    26420.00       0      26420.00    \n",
       "2               3.00      15.00    32670.00       0      32670.00    \n",
       "3               3.00      15.00    13320.00       0      13320.00    \n",
       "4               3.00      15.00    37050.00       0      37050.00    \n",
       "\n",
       "         COGS      Profit        Date  Month Number Month Name  Year  \n",
       "0   16185.00    16185.00   01/01/2014             1   January   2014  \n",
       "1   13210.00    13210.00   01/01/2014             1   January   2014  \n",
       "2   21780.00    10890.00   01/06/2014             6      June   2014  \n",
       "3    8880.00     4440.00   01/06/2014             6      June   2014  \n",
       "4   24700.00    12350.00   01/06/2014             6      June   2014  "
      ]
     },
     "execution_count": 10,
     "metadata": {},
     "output_type": "execute_result"
    }
   ],
   "source": [
    "df.head()"
   ]
  },
  {
   "cell_type": "code",
   "execution_count": 11,
   "id": "35645345-6844-4b04-81c5-f033c899ae5c",
   "metadata": {},
   "outputs": [
    {
     "name": "stdout",
     "output_type": "stream",
     "text": [
      "<class 'pandas.core.frame.DataFrame'>\n",
      "RangeIndex: 700 entries, 0 to 699\n",
      "Data columns (total 16 columns):\n",
      " #   Column               Non-Null Count  Dtype \n",
      "---  ------               --------------  ----- \n",
      " 0   Segment              700 non-null    object\n",
      " 1   Country              700 non-null    object\n",
      " 2   Product              700 non-null    object\n",
      " 3   Discount Band        700 non-null    object\n",
      " 4   Units Sold           700 non-null    object\n",
      " 5   Manufacturing Price  700 non-null    object\n",
      " 6   Sale Price           700 non-null    object\n",
      " 7   Gross Sales          700 non-null    object\n",
      " 8   Discounts            700 non-null    object\n",
      " 9   Sales                700 non-null    object\n",
      " 10  COGS                 700 non-null    object\n",
      " 11  Profit               700 non-null    object\n",
      " 12  Date                 700 non-null    object\n",
      " 13  Month Number         700 non-null    int64 \n",
      " 14  Month Name           700 non-null    object\n",
      " 15  Year                 700 non-null    int64 \n",
      "dtypes: int64(2), object(14)\n",
      "memory usage: 87.6+ KB\n"
     ]
    }
   ],
   "source": [
    "df.info()"
   ]
  },
  {
   "cell_type": "markdown",
   "id": "99b5c491-0e44-41ec-b5e4-7bb52f198bea",
   "metadata": {},
   "source": [
    "* Many numerical features have dtype as object which needs to be changed to numeric"
   ]
  },
  {
   "cell_type": "code",
   "execution_count": 12,
   "id": "e769b6d2-4410-45d6-8bfc-78a3b63159ca",
   "metadata": {},
   "outputs": [],
   "source": [
    "numeric_cols = ['Units Sold', 'Manufacturing Price', 'Sale Price', 'Gross Sales', 'Discounts', 'Sales', 'COGS', 'Profit']\n",
    "df[numeric_cols] = df[numeric_cols].apply(pd.to_numeric, errors = 'coerce')"
   ]
  },
  {
   "cell_type": "markdown",
   "id": "3ed96c88-440b-4071-9c2c-3853f71b317d",
   "metadata": {},
   "source": [
    "* Changing 'Date' column's dtype to datetime"
   ]
  },
  {
   "cell_type": "code",
   "execution_count": 14,
   "id": "d5a77dd2-8373-429c-bac9-25d92eb13604",
   "metadata": {},
   "outputs": [],
   "source": [
    "df['Date'] = pd.to_datetime(df['Date'])"
   ]
  },
  {
   "cell_type": "code",
   "execution_count": 15,
   "id": "7b49a531-baed-4336-8e01-aed52b382acb",
   "metadata": {},
   "outputs": [
    {
     "name": "stdout",
     "output_type": "stream",
     "text": [
      "<class 'pandas.core.frame.DataFrame'>\n",
      "RangeIndex: 700 entries, 0 to 699\n",
      "Data columns (total 16 columns):\n",
      " #   Column               Non-Null Count  Dtype         \n",
      "---  ------               --------------  -----         \n",
      " 0   Segment              700 non-null    object        \n",
      " 1   Country              700 non-null    object        \n",
      " 2   Product              700 non-null    object        \n",
      " 3   Discount Band        700 non-null    object        \n",
      " 4   Units Sold           700 non-null    float64       \n",
      " 5   Manufacturing Price  700 non-null    float64       \n",
      " 6   Sale Price           700 non-null    float64       \n",
      " 7   Gross Sales          700 non-null    float64       \n",
      " 8   Discounts            700 non-null    float64       \n",
      " 9   Sales                700 non-null    float64       \n",
      " 10  COGS                 700 non-null    float64       \n",
      " 11  Profit               642 non-null    float64       \n",
      " 12  Date                 700 non-null    datetime64[ns]\n",
      " 13  Month Number         700 non-null    int64         \n",
      " 14  Month Name           700 non-null    object        \n",
      " 15  Year                 700 non-null    int64         \n",
      "dtypes: datetime64[ns](1), float64(8), int64(2), object(5)\n",
      "memory usage: 87.6+ KB\n"
     ]
    }
   ],
   "source": [
    "df.info()"
   ]
  },
  {
   "cell_type": "markdown",
   "id": "0fac59b2-2594-4bff-9481-5eda67591126",
   "metadata": {},
   "source": [
    "#### 1.3 Handling Missing values"
   ]
  },
  {
   "cell_type": "code",
   "execution_count": 16,
   "id": "e7c0c8ab-9ede-4026-b4f8-58646f94335b",
   "metadata": {},
   "outputs": [
    {
     "data": {
      "text/plain": [
       "Segment                 0\n",
       "Country                 0\n",
       "Product                 0\n",
       "Discount Band           0\n",
       "Units Sold              0\n",
       "Manufacturing Price     0\n",
       "Sale Price              0\n",
       "Gross Sales             0\n",
       "Discounts               0\n",
       "Sales                   0\n",
       "COGS                    0\n",
       "Profit                 58\n",
       "Date                    0\n",
       "Month Number            0\n",
       "Month Name              0\n",
       "Year                    0\n",
       "dtype: int64"
      ]
     },
     "execution_count": 16,
     "metadata": {},
     "output_type": "execute_result"
    }
   ],
   "source": [
    "#Checking for missing values\n",
    "df.isnull().sum()"
   ]
  },
  {
   "cell_type": "markdown",
   "id": "4237cd34-35ac-4401-a719-dfde4b7e2eae",
   "metadata": {},
   "source": [
    "* We have 700 records and as the number of missing values is very less, we can simply drop them"
   ]
  },
  {
   "cell_type": "code",
   "execution_count": 17,
   "id": "61ba7d2d-29f6-4b3f-9114-a3961826e852",
   "metadata": {},
   "outputs": [],
   "source": [
    "df = df.dropna()"
   ]
  },
  {
   "cell_type": "code",
   "execution_count": 18,
   "id": "a038a55c-13c6-4bf3-991b-0ce9dcdd5e89",
   "metadata": {},
   "outputs": [
    {
     "data": {
      "text/plain": [
       "Segment                0\n",
       "Country                0\n",
       "Product                0\n",
       "Discount Band          0\n",
       "Units Sold             0\n",
       "Manufacturing Price    0\n",
       "Sale Price             0\n",
       "Gross Sales            0\n",
       "Discounts              0\n",
       "Sales                  0\n",
       "COGS                   0\n",
       "Profit                 0\n",
       "Date                   0\n",
       "Month Number           0\n",
       "Month Name             0\n",
       "Year                   0\n",
       "dtype: int64"
      ]
     },
     "execution_count": 18,
     "metadata": {},
     "output_type": "execute_result"
    }
   ],
   "source": [
    "df.isnull().sum()"
   ]
  },
  {
   "cell_type": "markdown",
   "id": "8f0491f1-aeb9-4b2d-9678-6374783b825b",
   "metadata": {},
   "source": [
    "### Step 2: Discount Analysis"
   ]
  },
  {
   "cell_type": "markdown",
   "id": "21c286ad-cae1-411d-8360-fa7375943141",
   "metadata": {},
   "source": [
    "#### 2.1 Impact of Discounts on Gross Sales\n",
    "- Analyzing the Impact of Discounts on Gross Sales by calculating the Correlation between discounts and gross sales."
   ]
  },
  {
   "cell_type": "code",
   "execution_count": 20,
   "id": "477d8607-d349-4b18-a174-3ceafbfa49a9",
   "metadata": {},
   "outputs": [
    {
     "name": "stdout",
     "output_type": "stream",
     "text": [
      "Correlation b/w Discounts and Gross Sales: 0.78\n"
     ]
    }
   ],
   "source": [
    "correlation = df['Discounts'].corr(df['Gross Sales'])\n",
    "print(f\"Correlation b/w Discounts and Gross Sales: {correlation:.2f}\")"
   ]
  },
  {
   "cell_type": "markdown",
   "id": "d4f28191-36ca-4349-9a37-8dfe654edc9d",
   "metadata": {},
   "source": [
    "**In our analysis, we discovered a strong and positive correlation between discounts and gross sales, with a correlation coefficient of 0.78, indicating a robust relationship between these variables.**\n",
    "\n",
    "**This means that as discounts increase, gross sales tend to increase as well. In simpler terms, offering discounts can have a positive impact on this company's gross sales. This positive association suggests that customers are more likely to make purchases when discounts are offered, ultimately boosting sales revenue.**"
   ]
  },
  {
   "cell_type": "markdown",
   "id": "5ca2dccc-28e4-4284-a8c8-4f0aa0115c7e",
   "metadata": {},
   "source": [
    "#### 2.2 Average Gross Sales for Each Discount Band\n",
    "- Calculating the average gross sales for each discount band."
   ]
  },
  {
   "cell_type": "code",
   "execution_count": 21,
   "id": "7c59a85d-ce31-4fe9-81ba-85c37ac8532a",
   "metadata": {},
   "outputs": [
    {
     "name": "stdout",
     "output_type": "stream",
     "text": [
      "  Discount Band    Gross Sales\n",
      "0         High   166227.360849\n",
      "1          Low   221971.590625\n",
      "2       Medium   167248.453917\n",
      "3         None   149880.264151\n"
     ]
    }
   ],
   "source": [
    "average_sales_by_discount = df.groupby('Discount Band')['Gross Sales'].mean().reset_index()\n",
    "print(average_sales_by_discount)"
   ]
  },
  {
   "cell_type": "markdown",
   "id": "c0f784b8-3aa4-4816-a265-178061d31b87",
   "metadata": {},
   "source": [
    "#### 2.3 Box Plot Visualization\n",
    "- Creating a box plot to visualize the distribution of gross sales across different discount bands."
   ]
  },
  {
   "cell_type": "code",
   "execution_count": 22,
   "id": "4b4cfa54-0b7f-4ddb-908c-ce98166227f9",
   "metadata": {},
   "outputs": [
    {
     "data": {
      "image/png": "[encoded data removed]",
      "text/plain": [
       "<Figure size 1000x600 with 1 Axes>"
      ]
     },
     "metadata": {},
     "output_type": "display_data"
    }
   ],
   "source": [
    "plt.figure(figsize=(10, 6))\n",
    "sns.boxplot(x='Discount Band', y='Gross Sales', data=df)\n",
    "plt.title('Distribution of Gross Sales by Discount Band')\n",
    "plt.xlabel('Discount Band')\n",
    "plt.ylabel('Gross Sales')\n",
    "plt.xticks(rotation=45)\n",
    "plt.show()"
   ]
  },
  {
   "cell_type": "markdown",
   "id": "353af3f2-efc4-45e0-9c5d-a9f979a14d96",
   "metadata": {},
   "source": [
    "**From this Box Plot, we found intriguing facts about sales and discounts:**\n",
    "\n",
    "- **Highest Median Sales:** The Low discount band boasts the highest median gross sales, making it a strong performer.\n",
    "\n",
    "- **Lowest Median Sales:** On the other hand, the None discount band exhibits the lowest median gross sales.\n",
    "\n",
    "- **Varying Distributions:** The distribution of gross sales varies across bands. It's widest for the Low discount band, suggesting diverse sales patterns. In contrast, the None discount band's distribution is the narrowest, indicating a more consistent sales trend.\n",
    "\n",
    "- **High Discount Outliers:** Notably, the High discount band stands out with numerous outliers. These outliers represent exceptionally high sales, likely due to special promotions or discounts, warranting further investigation.\n",
    "\n",
    "- **Stable None Discount:** In contrast, the None discount band lacks outliers, implying consistent and predictable sales within this category. When no discounts are applied, sales tend to follow a stable pattern.\n",
    "\n",
    "These findings highlight how discounts affect sales, providing insights for pricing strategies."
   ]
  },
  {
   "cell_type": "markdown",
   "id": "a456afb0-1274-454b-8973-33fa586462dd",
   "metadata": {},
   "source": [
    "### Step 3: Profit Margin Analysis"
   ]
  },
  {
   "cell_type": "markdown",
   "id": "fabc48f8-e4c6-4f05-832c-4e823abb9932",
   "metadata": {},
   "source": [
    "#### 3.1 Calculate Profit Margin\n",
    "- Calculating the profit margin for each row using the formula: (Gross Sales - COGS) / Gross Sales."
   ]
  },
  {
   "cell_type": "code",
   "execution_count": 23,
   "id": "0c7e7e0d-ab45-4361-b9dd-23b949479662",
   "metadata": {},
   "outputs": [],
   "source": [
    "df['Profit Margin'] = (df['Gross Sales'] - df['COGS']) / df['Gross Sales']"
   ]
  },
  {
   "cell_type": "code",
   "execution_count": 24,
   "id": "63a5bd05-7811-46be-936c-aeb47fb15b97",
   "metadata": {},
   "outputs": [
    {
     "data": {
      "text/html": [
       "<div>\n",
       "<style scoped>\n",
       "    .dataframe tbody tr th:only-of-type {\n",
       "        vertical-align: middle;\n",
       "    }\n",
       "\n",
       "    .dataframe tbody tr th {\n",
       "        vertical-align: top;\n",
       "    }\n",
       "\n",
       "    .dataframe thead th {\n",
       "        text-align: right;\n",
       "    }\n",
       "</style>\n",
       "<table border=\"1\" class=\"dataframe\">\n",
       "  <thead>\n",
       "    <tr style=\"text-align: right;\">\n",
       "      <th></th>\n",
       "      <th>Segment</th>\n",
       "      <th>Country</th>\n",
       "      <th>Product</th>\n",
       "      <th>Discount Band</th>\n",
       "      <th>Units Sold</th>\n",
       "      <th>Manufacturing Price</th>\n",
       "      <th>Sale Price</th>\n",
       "      <th>Gross Sales</th>\n",
       "      <th>Discounts</th>\n",
       "      <th>Sales</th>\n",
       "      <th>COGS</th>\n",
       "      <th>Profit</th>\n",
       "      <th>Date</th>\n",
       "      <th>Month Number</th>\n",
       "      <th>Month Name</th>\n",
       "      <th>Year</th>\n",
       "      <th>Profit Margin</th>\n",
       "    </tr>\n",
       "  </thead>\n",
       "  <tbody>\n",
       "    <tr>\n",
       "      <th>0</th>\n",
       "      <td>Government</td>\n",
       "      <td>Canada</td>\n",
       "      <td>Carretera</td>\n",
       "      <td>None</td>\n",
       "      <td>1618.5</td>\n",
       "      <td>3.0</td>\n",
       "      <td>20.0</td>\n",
       "      <td>32370.0</td>\n",
       "      <td>0.0</td>\n",
       "      <td>32370.0</td>\n",
       "      <td>16185.0</td>\n",
       "      <td>16185.0</td>\n",
       "      <td>2014-01-01</td>\n",
       "      <td>1</td>\n",
       "      <td>January</td>\n",
       "      <td>2014</td>\n",
       "      <td>0.500000</td>\n",
       "    </tr>\n",
       "    <tr>\n",
       "      <th>1</th>\n",
       "      <td>Government</td>\n",
       "      <td>Germany</td>\n",
       "      <td>Carretera</td>\n",
       "      <td>None</td>\n",
       "      <td>1321.0</td>\n",
       "      <td>3.0</td>\n",
       "      <td>20.0</td>\n",
       "      <td>26420.0</td>\n",
       "      <td>0.0</td>\n",
       "      <td>26420.0</td>\n",
       "      <td>13210.0</td>\n",
       "      <td>13210.0</td>\n",
       "      <td>2014-01-01</td>\n",
       "      <td>1</td>\n",
       "      <td>January</td>\n",
       "      <td>2014</td>\n",
       "      <td>0.500000</td>\n",
       "    </tr>\n",
       "    <tr>\n",
       "      <th>2</th>\n",
       "      <td>Midmarket</td>\n",
       "      <td>France</td>\n",
       "      <td>Carretera</td>\n",
       "      <td>None</td>\n",
       "      <td>2178.0</td>\n",
       "      <td>3.0</td>\n",
       "      <td>15.0</td>\n",
       "      <td>32670.0</td>\n",
       "      <td>0.0</td>\n",
       "      <td>32670.0</td>\n",
       "      <td>21780.0</td>\n",
       "      <td>10890.0</td>\n",
       "      <td>2014-01-06</td>\n",
       "      <td>6</td>\n",
       "      <td>June</td>\n",
       "      <td>2014</td>\n",
       "      <td>0.333333</td>\n",
       "    </tr>\n",
       "    <tr>\n",
       "      <th>3</th>\n",
       "      <td>Midmarket</td>\n",
       "      <td>Germany</td>\n",
       "      <td>Carretera</td>\n",
       "      <td>None</td>\n",
       "      <td>888.0</td>\n",
       "      <td>3.0</td>\n",
       "      <td>15.0</td>\n",
       "      <td>13320.0</td>\n",
       "      <td>0.0</td>\n",
       "      <td>13320.0</td>\n",
       "      <td>8880.0</td>\n",
       "      <td>4440.0</td>\n",
       "      <td>2014-01-06</td>\n",
       "      <td>6</td>\n",
       "      <td>June</td>\n",
       "      <td>2014</td>\n",
       "      <td>0.333333</td>\n",
       "    </tr>\n",
       "    <tr>\n",
       "      <th>4</th>\n",
       "      <td>Midmarket</td>\n",
       "      <td>Mexico</td>\n",
       "      <td>Carretera</td>\n",
       "      <td>None</td>\n",
       "      <td>2470.0</td>\n",
       "      <td>3.0</td>\n",
       "      <td>15.0</td>\n",
       "      <td>37050.0</td>\n",
       "      <td>0.0</td>\n",
       "      <td>37050.0</td>\n",
       "      <td>24700.0</td>\n",
       "      <td>12350.0</td>\n",
       "      <td>2014-01-06</td>\n",
       "      <td>6</td>\n",
       "      <td>June</td>\n",
       "      <td>2014</td>\n",
       "      <td>0.333333</td>\n",
       "    </tr>\n",
       "  </tbody>\n",
       "</table>\n",
       "</div>"
      ],
      "text/plain": [
       "      Segment  Country      Product Discount Band  Units Sold  \\\n",
       "0  Government   Canada   Carretera          None       1618.5   \n",
       "1  Government  Germany   Carretera          None       1321.0   \n",
       "2   Midmarket   France   Carretera          None       2178.0   \n",
       "3   Midmarket  Germany   Carretera          None        888.0   \n",
       "4   Midmarket   Mexico   Carretera          None       2470.0   \n",
       "\n",
       "   Manufacturing Price  Sale Price  Gross Sales  Discounts    Sales     COGS  \\\n",
       "0                  3.0        20.0      32370.0        0.0  32370.0  16185.0   \n",
       "1                  3.0        20.0      26420.0        0.0  26420.0  13210.0   \n",
       "2                  3.0        15.0      32670.0        0.0  32670.0  21780.0   \n",
       "3                  3.0        15.0      13320.0        0.0  13320.0   8880.0   \n",
       "4                  3.0        15.0      37050.0        0.0  37050.0  24700.0   \n",
       "\n",
       "    Profit       Date  Month Number Month Name  Year  Profit Margin  \n",
       "0  16185.0 2014-01-01             1   January   2014       0.500000  \n",
       "1  13210.0 2014-01-01             1   January   2014       0.500000  \n",
       "2  10890.0 2014-01-06             6      June   2014       0.333333  \n",
       "3   4440.0 2014-01-06             6      June   2014       0.333333  \n",
       "4  12350.0 2014-01-06             6      June   2014       0.333333  "
      ]
     },
     "execution_count": 24,
     "metadata": {},
     "output_type": "execute_result"
    }
   ],
   "source": [
    "df.head()"
   ]
  },
  {
   "cell_type": "markdown",
   "id": "aafb3850-58b4-4e56-813d-745682711283",
   "metadata": {},
   "source": [
    "#### 3.2 Distribution of Profit Margins\n",
    "- Analyzing the distribution of profit margins by histogram chart."
   ]
  },
  {
   "cell_type": "code",
   "execution_count": 40,
   "id": "21e0ba3d-77e0-41cf-bfa5-a75052cd87ba",
   "metadata": {},
   "outputs": [
    {
     "data": {
      "image/png": "[encoded data removed]",
      "text/plain": [
       "<Figure size 640x480 with 1 Axes>"
      ]
     },
     "metadata": {},
     "output_type": "display_data"
    }
   ],
   "source": [
    "plt.hist(df['Profit Margin'])\n",
    "plt.xlabel('Profit Margin (%)')\n",
    "plt.ylabel('Number of rows')\n",
    "plt.title('Distribution of profit margins')\n",
    "plt.show()"
   ]
  },
  {
   "cell_type": "markdown",
   "id": "28233327-a8e0-44b8-8b9a-cf886c682ea1",
   "metadata": {},
   "source": [
    "**This Histogram revealed some key points about the Distribution of Profit margins:**\n",
    "\n",
    "- **Diverse Margins:** The company operates with various profit margins, reflecting different business strategies.\n",
    "\n",
    "- **Profit Range:** Most transactions fall within the 20% to 50% profit margin range.\n",
    "\n",
    "- **Extreme Margins:** Some transactions boast margins above 50%, while others dip below 20%.\n",
    "\n",
    "- **Peak at 30%:** The majority of deals cluster around a 30% profit margin.\n",
    "\n",
    "- **Right Skew:** More transactions feature lower profit margins, indicating a trend toward profitability rather than high margins.\n",
    "\n",
    "These findings illuminate the company's profit landscape, aiding decision-makers in optimizing their financial strategies."
   ]
  },
  {
   "cell_type": "markdown",
   "id": "32767567-f80e-410c-9d94-3bbd337c6441",
   "metadata": {},
   "source": [
    "#### 3.3 Violin Plot for Profit Margins\n",
    "- Comparing profit margins across different segments using a violin plot."
   ]
  },
  {
   "cell_type": "code",
   "execution_count": 27,
   "id": "958a734b-e7a1-454c-b482-70f71a8a5047",
   "metadata": {},
   "outputs": [
    {
     "data": {
      "image/png": "[encoded data removed]",
      "text/plain": [
       "<Figure size 1000x600 with 1 Axes>"
      ]
     },
     "metadata": {},
     "output_type": "display_data"
    }
   ],
   "source": [
    "plt.figure(figsize=(10, 6))\n",
    "sns.violinplot(x='Segment', y='Profit Margin', data=df)\n",
    "plt.title('Profit Margins Across Different Segments')\n",
    "plt.xlabel('Segment')\n",
    "plt.ylabel('Profit Margin')\n",
    "plt.show()"
   ]
  },
  {
   "cell_type": "markdown",
   "id": "2100a4df-fbfb-42cb-a4cb-8e0215772613",
   "metadata": {},
   "source": [
    "**Unraveling Profit Margins by Segment**\n",
    "\n",
    "Our violin plot uncovers intriguing profit margin insights:\n",
    "\n",
    "- **Government's Variation**: The Government segment exhibits the broadest profit margin distribution, suggesting varying profitability within government contracts. It's a mix of high and low-profit projects (multimodal data).\n",
    "\n",
    "- **Channel Partners Lead**: Channel Partners boast the highest profit margins, followed by the Government segment.\n",
    "\n",
    "- **Enterprise Lags**: The Enterprise segment lags behind with the lowest profit margins.\n",
    "\n",
    "- **Segment Uniformity**: Unlike the Government segment, the other segments feature unimodal distributions. This implies more consistent profit margins concentrated around specific values.\n",
    "\n",
    "These revelations help tailor strategies for different segments, optimizing profitability.\n"
   ]
  },
  {
   "cell_type": "markdown",
   "id": "5f17bbd7-f118-4eb9-9d4e-8bf2c3380b5a",
   "metadata": {},
   "source": [
    "### Step 4: Discount Level vs. Profit (Simple Linear Regression)"
   ]
  },
  {
   "cell_type": "markdown",
   "id": "7e5a9c87-f48c-461f-8594-1d75e7ce5645",
   "metadata": {},
   "source": [
    "#### 4.1 Simple Linear Regression Analysis\n",
    "- Performing a simple linear regression analysis to understand the relationship between different discount levels (High, Medium, None, Low) and the company's profit."
   ]
  },
  {
   "cell_type": "markdown",
   "id": "27575d22-90ad-41af-8058-c9922680a4d1",
   "metadata": {},
   "source": [
    "##### Creating a separate dataframe for this analysis"
   ]
  },
  {
   "cell_type": "code",
   "execution_count": 28,
   "id": "447e975a-b9bf-4c15-9dbc-a75369e84c01",
   "metadata": {},
   "outputs": [],
   "source": [
    "slr_df = df.copy()"
   ]
  },
  {
   "cell_type": "markdown",
   "id": "d48151bf-a5fa-45d5-ac42-809c662151b0",
   "metadata": {},
   "source": [
    "##### Encoding Categorical Variables\n",
    "Since 'Discount Band' is a categorical variable (e.g., High, Medium, None, Low), we are going to encode it into numerical values using one-hot encoding."
   ]
  },
  {
   "cell_type": "code",
   "execution_count": 29,
   "id": "ad589f42-8481-4197-9363-f0ebe2592e22",
   "metadata": {},
   "outputs": [],
   "source": [
    "slr_df = pd.get_dummies(df, columns = ['Discount Band'], drop_first = True)"
   ]
  },
  {
   "cell_type": "code",
   "execution_count": 30,
   "id": "44d947a1-1467-4537-97dd-88ab2cd5824f",
   "metadata": {},
   "outputs": [
    {
     "data": {
      "text/html": [
       "<div>\n",
       "<style scoped>\n",
       "    .dataframe tbody tr th:only-of-type {\n",
       "        vertical-align: middle;\n",
       "    }\n",
       "\n",
       "    .dataframe tbody tr th {\n",
       "        vertical-align: top;\n",
       "    }\n",
       "\n",
       "    .dataframe thead th {\n",
       "        text-align: right;\n",
       "    }\n",
       "</style>\n",
       "<table border=\"1\" class=\"dataframe\">\n",
       "  <thead>\n",
       "    <tr style=\"text-align: right;\">\n",
       "      <th></th>\n",
       "      <th>Segment</th>\n",
       "      <th>Country</th>\n",
       "      <th>Product</th>\n",
       "      <th>Units Sold</th>\n",
       "      <th>Manufacturing Price</th>\n",
       "      <th>Sale Price</th>\n",
       "      <th>Gross Sales</th>\n",
       "      <th>Discounts</th>\n",
       "      <th>Sales</th>\n",
       "      <th>COGS</th>\n",
       "      <th>Profit</th>\n",
       "      <th>Date</th>\n",
       "      <th>Month Number</th>\n",
       "      <th>Month Name</th>\n",
       "      <th>Year</th>\n",
       "      <th>Profit Margin</th>\n",
       "      <th>Discount Band_ Low</th>\n",
       "      <th>Discount Band_ Medium</th>\n",
       "      <th>Discount Band_ None</th>\n",
       "    </tr>\n",
       "  </thead>\n",
       "  <tbody>\n",
       "    <tr>\n",
       "      <th>0</th>\n",
       "      <td>Government</td>\n",
       "      <td>Canada</td>\n",
       "      <td>Carretera</td>\n",
       "      <td>1618.5</td>\n",
       "      <td>3.0</td>\n",
       "      <td>20.0</td>\n",
       "      <td>32370.0</td>\n",
       "      <td>0.0</td>\n",
       "      <td>32370.0</td>\n",
       "      <td>16185.0</td>\n",
       "      <td>16185.0</td>\n",
       "      <td>2014-01-01</td>\n",
       "      <td>1</td>\n",
       "      <td>January</td>\n",
       "      <td>2014</td>\n",
       "      <td>0.500000</td>\n",
       "      <td>False</td>\n",
       "      <td>False</td>\n",
       "      <td>True</td>\n",
       "    </tr>\n",
       "    <tr>\n",
       "      <th>1</th>\n",
       "      <td>Government</td>\n",
       "      <td>Germany</td>\n",
       "      <td>Carretera</td>\n",
       "      <td>1321.0</td>\n",
       "      <td>3.0</td>\n",
       "      <td>20.0</td>\n",
       "      <td>26420.0</td>\n",
       "      <td>0.0</td>\n",
       "      <td>26420.0</td>\n",
       "      <td>13210.0</td>\n",
       "      <td>13210.0</td>\n",
       "      <td>2014-01-01</td>\n",
       "      <td>1</td>\n",
       "      <td>January</td>\n",
       "      <td>2014</td>\n",
       "      <td>0.500000</td>\n",
       "      <td>False</td>\n",
       "      <td>False</td>\n",
       "      <td>True</td>\n",
       "    </tr>\n",
       "    <tr>\n",
       "      <th>2</th>\n",
       "      <td>Midmarket</td>\n",
       "      <td>France</td>\n",
       "      <td>Carretera</td>\n",
       "      <td>2178.0</td>\n",
       "      <td>3.0</td>\n",
       "      <td>15.0</td>\n",
       "      <td>32670.0</td>\n",
       "      <td>0.0</td>\n",
       "      <td>32670.0</td>\n",
       "      <td>21780.0</td>\n",
       "      <td>10890.0</td>\n",
       "      <td>2014-01-06</td>\n",
       "      <td>6</td>\n",
       "      <td>June</td>\n",
       "      <td>2014</td>\n",
       "      <td>0.333333</td>\n",
       "      <td>False</td>\n",
       "      <td>False</td>\n",
       "      <td>True</td>\n",
       "    </tr>\n",
       "    <tr>\n",
       "      <th>3</th>\n",
       "      <td>Midmarket</td>\n",
       "      <td>Germany</td>\n",
       "      <td>Carretera</td>\n",
       "      <td>888.0</td>\n",
       "      <td>3.0</td>\n",
       "      <td>15.0</td>\n",
       "      <td>13320.0</td>\n",
       "      <td>0.0</td>\n",
       "      <td>13320.0</td>\n",
       "      <td>8880.0</td>\n",
       "      <td>4440.0</td>\n",
       "      <td>2014-01-06</td>\n",
       "      <td>6</td>\n",
       "      <td>June</td>\n",
       "      <td>2014</td>\n",
       "      <td>0.333333</td>\n",
       "      <td>False</td>\n",
       "      <td>False</td>\n",
       "      <td>True</td>\n",
       "    </tr>\n",
       "    <tr>\n",
       "      <th>4</th>\n",
       "      <td>Midmarket</td>\n",
       "      <td>Mexico</td>\n",
       "      <td>Carretera</td>\n",
       "      <td>2470.0</td>\n",
       "      <td>3.0</td>\n",
       "      <td>15.0</td>\n",
       "      <td>37050.0</td>\n",
       "      <td>0.0</td>\n",
       "      <td>37050.0</td>\n",
       "      <td>24700.0</td>\n",
       "      <td>12350.0</td>\n",
       "      <td>2014-01-06</td>\n",
       "      <td>6</td>\n",
       "      <td>June</td>\n",
       "      <td>2014</td>\n",
       "      <td>0.333333</td>\n",
       "      <td>False</td>\n",
       "      <td>False</td>\n",
       "      <td>True</td>\n",
       "    </tr>\n",
       "  </tbody>\n",
       "</table>\n",
       "</div>"
      ],
      "text/plain": [
       "      Segment  Country      Product  Units Sold  Manufacturing Price  \\\n",
       "0  Government   Canada   Carretera       1618.5                  3.0   \n",
       "1  Government  Germany   Carretera       1321.0                  3.0   \n",
       "2   Midmarket   France   Carretera       2178.0                  3.0   \n",
       "3   Midmarket  Germany   Carretera        888.0                  3.0   \n",
       "4   Midmarket   Mexico   Carretera       2470.0                  3.0   \n",
       "\n",
       "   Sale Price  Gross Sales  Discounts    Sales     COGS   Profit       Date  \\\n",
       "0        20.0      32370.0        0.0  32370.0  16185.0  16185.0 2014-01-01   \n",
       "1        20.0      26420.0        0.0  26420.0  13210.0  13210.0 2014-01-01   \n",
       "2        15.0      32670.0        0.0  32670.0  21780.0  10890.0 2014-01-06   \n",
       "3        15.0      13320.0        0.0  13320.0   8880.0   4440.0 2014-01-06   \n",
       "4        15.0      37050.0        0.0  37050.0  24700.0  12350.0 2014-01-06   \n",
       "\n",
       "   Month Number Month Name  Year  Profit Margin  Discount Band_ Low   \\\n",
       "0             1   January   2014       0.500000                False   \n",
       "1             1   January   2014       0.500000                False   \n",
       "2             6      June   2014       0.333333                False   \n",
       "3             6      June   2014       0.333333                False   \n",
       "4             6      June   2014       0.333333                False   \n",
       "\n",
       "   Discount Band_ Medium   Discount Band_ None   \n",
       "0                   False                  True  \n",
       "1                   False                  True  \n",
       "2                   False                  True  \n",
       "3                   False                  True  \n",
       "4                   False                  True  "
      ]
     },
     "execution_count": 30,
     "metadata": {},
     "output_type": "execute_result"
    }
   ],
   "source": [
    "slr_df.head()"
   ]
  },
  {
   "cell_type": "markdown",
   "id": "308e1e60-82dc-44a0-bf0e-5d0e935c8c9e",
   "metadata": {},
   "source": [
    "##### Defining Independent and Dependent Variables\n",
    "In this simple linear regression, 'Discount Band' will be our independent variable (X), and 'Profit' will be our dependent variable (y)."
   ]
  },
  {
   "cell_type": "code",
   "execution_count": 31,
   "id": "d1dfce31-6c71-4fe6-9f3f-c01a0e50ae98",
   "metadata": {},
   "outputs": [],
   "source": [
    "X = slr_df[['Discount Band_ Low ', 'Discount Band_ Medium ', 'Discount Band_ None ']]\n",
    "y = slr_df['Profit']"
   ]
  },
  {
   "cell_type": "markdown",
   "id": "7d5ef0d5-205c-4bb1-a4ef-5848c17be4b6",
   "metadata": {},
   "source": [
    "##### Create and Fit the Regression Model\n",
    "Creating a linear regression model using Scikit-Learn and fitting it to our data."
   ]
  },
  {
   "cell_type": "code",
   "execution_count": 32,
   "id": "e9bbd2f0-ed0b-4b1e-a45a-8d767b83bb9b",
   "metadata": {},
   "outputs": [
    {
     "data": {
      "text/html": [
       "<style>#sk-container-id-1 {color: black;}#sk-container-id-1 pre{padding: 0;}#sk-container-id-1 div.sk-toggleable {background-color: white;}#sk-container-id-1 label.sk-toggleable__label {cursor: pointer;display: block;width: 100%;margin-bottom: 0;padding: 0.3em;box-sizing: border-box;text-align: center;}#sk-container-id-1 label.sk-toggleable__label-arrow:before {content: \"▸\";float: left;margin-right: 0.25em;color: #696969;}#sk-container-id-1 label.sk-toggleable__label-arrow:hover:before {color: black;}#sk-container-id-1 div.sk-estimator:hover label.sk-toggleable__label-arrow:before {color: black;}#sk-container-id-1 div.sk-toggleable__content {max-height: 0;max-width: 0;overflow: hidden;text-align: left;background-color: #f0f8ff;}#sk-container-id-1 div.sk-toggleable__content pre {margin: 0.2em;color: black;border-radius: 0.25em;background-color: #f0f8ff;}#sk-container-id-1 input.sk-toggleable__control:checked~div.sk-toggleable__content {max-height: 200px;max-width: 100%;overflow: auto;}#sk-container-id-1 input.sk-toggleable__control:checked~label.sk-toggleable__label-arrow:before {content: \"▾\";}#sk-container-id-1 div.sk-estimator input.sk-toggleable__control:checked~label.sk-toggleable__label {background-color: #d4ebff;}#sk-container-id-1 div.sk-label input.sk-toggleable__control:checked~label.sk-toggleable__label {background-color: #d4ebff;}#sk-container-id-1 input.sk-hidden--visually {border: 0;clip: rect(1px 1px 1px 1px);clip: rect(1px, 1px, 1px, 1px);height: 1px;margin: -1px;overflow: hidden;padding: 0;position: absolute;width: 1px;}#sk-container-id-1 div.sk-estimator {font-family: monospace;background-color: #f0f8ff;border: 1px dotted black;border-radius: 0.25em;box-sizing: border-box;margin-bottom: 0.5em;}#sk-container-id-1 div.sk-estimator:hover {background-color: #d4ebff;}#sk-container-id-1 div.sk-parallel-item::after {content: \"\";width: 100%;border-bottom: 1px solid gray;flex-grow: 1;}#sk-container-id-1 div.sk-label:hover label.sk-toggleable__label {background-color: #d4ebff;}#sk-container-id-1 div.sk-serial::before {content: \"\";position: absolute;border-left: 1px solid gray;box-sizing: border-box;top: 0;bottom: 0;left: 50%;z-index: 0;}#sk-container-id-1 div.sk-serial {display: flex;flex-direction: column;align-items: center;background-color: white;padding-right: 0.2em;padding-left: 0.2em;position: relative;}#sk-container-id-1 div.sk-item {position: relative;z-index: 1;}#sk-container-id-1 div.sk-parallel {display: flex;align-items: stretch;justify-content: center;background-color: white;position: relative;}#sk-container-id-1 div.sk-item::before, #sk-container-id-1 div.sk-parallel-item::before {content: \"\";position: absolute;border-left: 1px solid gray;box-sizing: border-box;top: 0;bottom: 0;left: 50%;z-index: -1;}#sk-container-id-1 div.sk-parallel-item {display: flex;flex-direction: column;z-index: 1;position: relative;background-color: white;}#sk-container-id-1 div.sk-parallel-item:first-child::after {align-self: flex-end;width: 50%;}#sk-container-id-1 div.sk-parallel-item:last-child::after {align-self: flex-start;width: 50%;}#sk-container-id-1 div.sk-parallel-item:only-child::after {width: 0;}#sk-container-id-1 div.sk-dashed-wrapped {border: 1px dashed gray;margin: 0 0.4em 0.5em 0.4em;box-sizing: border-box;padding-bottom: 0.4em;background-color: white;}#sk-container-id-1 div.sk-label label {font-family: monospace;font-weight: bold;display: inline-block;line-height: 1.2em;}#sk-container-id-1 div.sk-label-container {text-align: center;}#sk-container-id-1 div.sk-container {/* jupyter's `normalize.less` sets `[hidden] { display: none; }` but bootstrap.min.css set `[hidden] { display: none !important; }` so we also need the `!important` here to be able to override the default hidden behavior on the sphinx rendered scikit-learn.org. See: https://github.com/scikit-learn/scikit-learn/issues/21755 */display: inline-block !important;position: relative;}#sk-container-id-1 div.sk-text-repr-fallback {display: none;}</style><div id=\"sk-container-id-1\" class=\"sk-top-container\"><div class=\"sk-text-repr-fallback\"><pre>LinearRegression()</pre><b>In a Jupyter environment, please rerun this cell to show the HTML representation or trust the notebook. <br />On GitHub, the HTML representation is unable to render, please try loading this page with nbviewer.org.</b></div><div class=\"sk-container\" hidden><div class=\"sk-item\"><div class=\"sk-estimator sk-toggleable\"><input class=\"sk-toggleable__control sk-hidden--visually\" id=\"sk-estimator-id-1\" type=\"checkbox\" checked><label for=\"sk-estimator-id-1\" class=\"sk-toggleable__label sk-toggleable__label-arrow\">LinearRegression</label><div class=\"sk-toggleable__content\"><pre>LinearRegression()</pre></div></div></div></div></div>"
      ],
      "text/plain": [
       "LinearRegression()"
      ]
     },
     "execution_count": 32,
     "metadata": {},
     "output_type": "execute_result"
    }
   ],
   "source": [
    "model = LinearRegression()\n",
    "model.fit(X, y)"
   ]
  },
  {
   "cell_type": "markdown",
   "id": "2eb4f9aa-d2aa-4e81-9b0e-eb7ab2d39185",
   "metadata": {},
   "source": [
    "#### 4.2 Linear Relationship Assessment\n",
    "- Determining whether a linear relationship exists between discount level and profit."
   ]
  },
  {
   "cell_type": "markdown",
   "id": "d21b8bc8-eb3d-439d-a3d8-285076fbe13e",
   "metadata": {},
   "source": [
    "##### Interpreting the Model\n",
    "\n",
    "To understand the relationship between discount levels and profit within the context of your financial analysis project, we are going to analyze the model's coefficients and performance."
   ]
  },
  {
   "cell_type": "markdown",
   "id": "a0e46c2a-4342-4163-a930-f549ee7ff7e9",
   "metadata": {},
   "source": [
    "- **Coefficients**: Examining the coefficients of the regression model to understand the strength and direction of the relationship between each discount level and profit."
   ]
  },
  {
   "cell_type": "code",
   "execution_count": 33,
   "id": "4b93be43-6a3d-46f2-bb88-7f76b4f02f47",
   "metadata": {},
   "outputs": [
    {
     "name": "stdout",
     "output_type": "stream",
     "text": [
      "                 Variable   Coefficient\n",
      "0     Discount Band_ Low   19759.438565\n",
      "1  Discount Band_ Medium    7505.231518\n",
      "2    Discount Band_ None   13842.379764\n"
     ]
    }
   ],
   "source": [
    "coefficients = pd.DataFrame({'Variable': X.columns, 'Coefficient': model.coef_})\n",
    "print(coefficients)"
   ]
  },
  {
   "cell_type": "markdown",
   "id": "720dd1c9-8495-47e3-9116-8678a7b20d8b",
   "metadata": {},
   "source": [
    "**Deciphering the Impact of Discounts on Profit**\r\n",
    "\r\n",
    "Our linear regression analysis unveils how different discount levels influence our profit relative to our baseline, the 'High' discount level.\r\n",
    "\r\n",
    "- **Low Discounts**: With 'Low' discounts, we observe a positive coefficient of approximately 19,760 units. In simple terms, offering 'Low' discounts boosts profit by roughly 19,760 units compared to 'High' discounts.\r\n",
    "\r\n",
    "- **Medium Discounts**: 'Medium' discounts yield a positive coefficient of around 7,505 units. When opting for 'Medium' discounts, expect a profit increase of approximately 7,505 units compared to 'High' discounts.\r\n",
    "\r\n",
    "- **No Discounts**: Surprisingly, 'No' discounts ('None') result in a positive coefficient of approximately 13,842 units. Choosing not to offer any discounts can lead to a profit increase of roughly 13,842 units compared to 'High' discounts.\r\n",
    "\r\n",
    "In summary, these coefficients clarify the impact of different discount levels on profitability. Positive coefficients indicate that raising discounts from the 'High' level tends to enhance profit.\r\n"
   ]
  },
  {
   "cell_type": "markdown",
   "id": "6ba5787f-e00c-41e9-a8c2-805288944b1a",
   "metadata": {},
   "source": [
    "- **Model Performance**: We can assess the overall performance of the model using metrics like R-squared (R2) or Mean Squared Error (MSE). A higher R2 value indicates a better fit of the model to the data and MSE is a measure of the average squared difference between the predicted values (in our case, the predicted 'Profit' values) and the actual values."
   ]
  },
  {
   "cell_type": "code",
   "execution_count": 34,
   "id": "651b08ab-7795-47a9-8791-ac6fd16a179d",
   "metadata": {},
   "outputs": [
    {
     "name": "stdout",
     "output_type": "stream",
     "text": [
      "R-squared: 0.031547360621956066\n",
      "Mean Squared Error: 1784591757.6978235\n"
     ]
    }
   ],
   "source": [
    "from sklearn.metrics import r2_score, mean_squared_error\n",
    "\n",
    "y_pred = model.predict(X)\n",
    "r_squared = r2_score(y, y_pred)\n",
    "mse = mean_squared_error(y, y_pred)\n",
    "\n",
    "print(f\"R-squared: {r_squared}\")\n",
    "print(f\"Mean Squared Error: {mse}\")"
   ]
  },
  {
   "cell_type": "markdown",
   "id": "41c62bbf-e150-41e6-8d2d-7090724f054b",
   "metadata": {},
   "source": [
    "**Performance Analysis of Regression Model**\r\n",
    "\r\n",
    "After evaluating the linear regression model's performance, we obtained the following metrics:\r\n",
    "\r\n",
    "- **R-squared (R2) Score**: The R2 score is approximately 0.0315. This score indicates a very weak linear relationship between 'Discount Level' and 'Profit.' In simpler terms, 'Discount Level' alone doesn't serve as a strong predictor for 'Profit.' The low R2 score suggests that other variables likely play a more significant role in determining 'Profit,' and the 'Discount Level' alone doesn't explain much of its variance.\r\n",
    "\r\n",
    "- **Mean Squared Error (MSE)**: The MSE is approximately 1,784,591,758. This metric suggests that, on average, our model's predictions for 'Profit' deviate significantly from the actual values. In practical terms, the average squared difference between our model's predicted 'Profit' and the real 'Profit' values is quite substantial.\r\n",
    "\r\n",
    "In summary, our linear regression model struggles to establish a robust linear relationship between 'Discount Level' and 'Profit.' The model's predictions exhibit considerable variance from actual 'Profit' values, highlighting the need for exploring additional factors that influence 'Profit.'\r\n"
   ]
  },
  {
   "cell_type": "markdown",
   "id": "b485d549-2080-4b67-9529-9fa1af0f2cfd",
   "metadata": {},
   "source": [
    "### Step 5: Product Price vs. Units Sold (Simple Linear Regression)"
   ]
  },
  {
   "cell_type": "markdown",
   "id": "557e191e-2ebb-4fd3-aa9e-ccb00f45e2d3",
   "metadata": {},
   "source": [
    "#### 5.1 Impact of Product Price on Units Sold\n",
    "- Analyzing the impact of product price (Sale Price) on the number of units sold using simple linear regression."
   ]
  },
  {
   "cell_type": "code",
   "execution_count": 35,
   "id": "2d1ec87a-178c-4648-ba67-7c83703bc0c8",
   "metadata": {},
   "outputs": [
    {
     "name": "stdout",
     "output_type": "stream",
     "text": [
      "Slope (Coefficient): -0.41834111567299886\n",
      "Intercept: 1641.6487623063276\n"
     ]
    }
   ],
   "source": [
    "model2 = LinearRegression()\n",
    "\n",
    "#Preparing the data\n",
    "X = df['Sale Price'].values.reshape(-1, 1)  # Reshape to a 2D array  #Independent Variable\n",
    "y = df['Units Sold']  #Dependent Variable\n",
    "\n",
    "#Fitting the model\n",
    "model2.fit(X, y)\n",
    "\n",
    "# Getting the coefficients (slope and intercept)\n",
    "slope = model2.coef_[0]\n",
    "intercept = model2.intercept_\n",
    "\n",
    "print(f\"Slope (Coefficient): {slope}\")\n",
    "print(f\"Intercept: {intercept}\")"
   ]
  },
  {
   "cell_type": "markdown",
   "id": "14d87738-2458-471e-8b2c-201b0e4d09d3",
   "metadata": {},
   "source": [
    "#### 5.2 Linear Correlation Assessment\n",
    "- Investigating whether a linear correlation exists between product price and units sold."
   ]
  },
  {
   "cell_type": "markdown",
   "id": "4c057705-d733-43e4-9bba-5f4d4cc7e422",
   "metadata": {},
   "source": [
    "\r\n",
    "In our analysis, we performed a simple linear regression to explore the relationship between product price (Sale Price) and the number of units sold (Units Sold). We calculated the slope coefficient, which came out to be approximately -0.4183.\r\n",
    "\r\n",
    "**Interpretation**:\r\n",
    "- The negative sign of the slope coefficient (-0.4183) suggests a clear negative linear correlation between product price (Sale Price) and units sold (Units Sold). In simpler terms, as the product price increases, the number of units sold tends to decrease.\r\n",
    "- This finding implies an inverse relationship between price and sales volume. In practical terms, as the price of the product rises, customers appear to be less inclined to make a purchase. Conversely, when prices are lower, sales tend to increase.\r\n",
    "\r\n",
    "These insights highlight the importance of pricing strategies and the need to carefully consider how changes in product prices can impact sales volume.\r\n"
   ]
  },
  {
   "cell_type": "markdown",
   "id": "ebdd4de4-39ae-4618-8181-cd17d0f7405c",
   "metadata": {},
   "source": [
    "### Step 6: Month vs. Gross Sales (Polynomial Regression)\n",
    "**Exploring how the month of the year affects the company's gross sales.**"
   ]
  },
  {
   "cell_type": "markdown",
   "id": "2662d565-7124-4a34-b969-c5e16874e5fc",
   "metadata": {},
   "source": [
    "#### 6.1 Polynomial Regression\r",
    "- Performing polynomial regression by considering the month as a categorical variable that we already have in a column 'Month Number'."
   ]
  },
  {
   "cell_type": "code",
   "execution_count": 37,
   "id": "a2a2c273-3998-4893-b6ec-b9ed4bd9c3cd",
   "metadata": {},
   "outputs": [
    {
     "data": {
      "text/html": [
       "<style>#sk-container-id-2 {color: black;}#sk-container-id-2 pre{padding: 0;}#sk-container-id-2 div.sk-toggleable {background-color: white;}#sk-container-id-2 label.sk-toggleable__label {cursor: pointer;display: block;width: 100%;margin-bottom: 0;padding: 0.3em;box-sizing: border-box;text-align: center;}#sk-container-id-2 label.sk-toggleable__label-arrow:before {content: \"▸\";float: left;margin-right: 0.25em;color: #696969;}#sk-container-id-2 label.sk-toggleable__label-arrow:hover:before {color: black;}#sk-container-id-2 div.sk-estimator:hover label.sk-toggleable__label-arrow:before {color: black;}#sk-container-id-2 div.sk-toggleable__content {max-height: 0;max-width: 0;overflow: hidden;text-align: left;background-color: #f0f8ff;}#sk-container-id-2 div.sk-toggleable__content pre {margin: 0.2em;color: black;border-radius: 0.25em;background-color: #f0f8ff;}#sk-container-id-2 input.sk-toggleable__control:checked~div.sk-toggleable__content {max-height: 200px;max-width: 100%;overflow: auto;}#sk-container-id-2 input.sk-toggleable__control:checked~label.sk-toggleable__label-arrow:before {content: \"▾\";}#sk-container-id-2 div.sk-estimator input.sk-toggleable__control:checked~label.sk-toggleable__label {background-color: #d4ebff;}#sk-container-id-2 div.sk-label input.sk-toggleable__control:checked~label.sk-toggleable__label {background-color: #d4ebff;}#sk-container-id-2 input.sk-hidden--visually {border: 0;clip: rect(1px 1px 1px 1px);clip: rect(1px, 1px, 1px, 1px);height: 1px;margin: -1px;overflow: hidden;padding: 0;position: absolute;width: 1px;}#sk-container-id-2 div.sk-estimator {font-family: monospace;background-color: #f0f8ff;border: 1px dotted black;border-radius: 0.25em;box-sizing: border-box;margin-bottom: 0.5em;}#sk-container-id-2 div.sk-estimator:hover {background-color: #d4ebff;}#sk-container-id-2 div.sk-parallel-item::after {content: \"\";width: 100%;border-bottom: 1px solid gray;flex-grow: 1;}#sk-container-id-2 div.sk-label:hover label.sk-toggleable__label {background-color: #d4ebff;}#sk-container-id-2 div.sk-serial::before {content: \"\";position: absolute;border-left: 1px solid gray;box-sizing: border-box;top: 0;bottom: 0;left: 50%;z-index: 0;}#sk-container-id-2 div.sk-serial {display: flex;flex-direction: column;align-items: center;background-color: white;padding-right: 0.2em;padding-left: 0.2em;position: relative;}#sk-container-id-2 div.sk-item {position: relative;z-index: 1;}#sk-container-id-2 div.sk-parallel {display: flex;align-items: stretch;justify-content: center;background-color: white;position: relative;}#sk-container-id-2 div.sk-item::before, #sk-container-id-2 div.sk-parallel-item::before {content: \"\";position: absolute;border-left: 1px solid gray;box-sizing: border-box;top: 0;bottom: 0;left: 50%;z-index: -1;}#sk-container-id-2 div.sk-parallel-item {display: flex;flex-direction: column;z-index: 1;position: relative;background-color: white;}#sk-container-id-2 div.sk-parallel-item:first-child::after {align-self: flex-end;width: 50%;}#sk-container-id-2 div.sk-parallel-item:last-child::after {align-self: flex-start;width: 50%;}#sk-container-id-2 div.sk-parallel-item:only-child::after {width: 0;}#sk-container-id-2 div.sk-dashed-wrapped {border: 1px dashed gray;margin: 0 0.4em 0.5em 0.4em;box-sizing: border-box;padding-bottom: 0.4em;background-color: white;}#sk-container-id-2 div.sk-label label {font-family: monospace;font-weight: bold;display: inline-block;line-height: 1.2em;}#sk-container-id-2 div.sk-label-container {text-align: center;}#sk-container-id-2 div.sk-container {/* jupyter's `normalize.less` sets `[hidden] { display: none; }` but bootstrap.min.css set `[hidden] { display: none !important; }` so we also need the `!important` here to be able to override the default hidden behavior on the sphinx rendered scikit-learn.org. See: https://github.com/scikit-learn/scikit-learn/issues/21755 */display: inline-block !important;position: relative;}#sk-container-id-2 div.sk-text-repr-fallback {display: none;}</style><div id=\"sk-container-id-2\" class=\"sk-top-container\"><div class=\"sk-text-repr-fallback\"><pre>LinearRegression()</pre><b>In a Jupyter environment, please rerun this cell to show the HTML representation or trust the notebook. <br />On GitHub, the HTML representation is unable to render, please try loading this page with nbviewer.org.</b></div><div class=\"sk-container\" hidden><div class=\"sk-item\"><div class=\"sk-estimator sk-toggleable\"><input class=\"sk-toggleable__control sk-hidden--visually\" id=\"sk-estimator-id-2\" type=\"checkbox\" checked><label for=\"sk-estimator-id-2\" class=\"sk-toggleable__label sk-toggleable__label-arrow\">LinearRegression</label><div class=\"sk-toggleable__content\"><pre>LinearRegression()</pre></div></div></div></div></div>"
      ],
      "text/plain": [
       "LinearRegression()"
      ]
     },
     "execution_count": 37,
     "metadata": {},
     "output_type": "execute_result"
    }
   ],
   "source": [
    "# Defining the independent variable (X) and dependent variable (y)\n",
    "X = df['Month Number'].values.reshape(-1, 1)\n",
    "y = df['Gross Sales'].values\n",
    "\n",
    "# Creating polynomial features (e.g., degree=2 for quadratic).\n",
    "degree = 2\n",
    "poly = PolynomialFeatures(degree=degree)\n",
    "X_poly = poly.fit_transform(X)\n",
    "\n",
    "# Fitting a Polynomial Regression model.\n",
    "model3 = LinearRegression()\n",
    "model3.fit(X_poly, y)"
   ]
  },
  {
   "cell_type": "markdown",
   "id": "50e46ba5-3993-47b7-afa2-bafe352fbc40",
   "metadata": {},
   "source": [
    "##### Visualization\n",
    "To visualize the polynomial relationship between the month and gross sales, we are plotting the regression curve along with the data points using a scatter plot."
   ]
  },
  {
   "cell_type": "code",
   "execution_count": 38,
   "id": "2da5e399-e78d-4fcb-a00e-38273b6a9944",
   "metadata": {},
   "outputs": [
    {
     "data": {
      "image/png": "[encoded data removed]",
      "text/plain": [
       "<Figure size 640x480 with 1 Axes>"
      ]
     },
     "metadata": {},
     "output_type": "display_data"
    }
   ],
   "source": [
    "# Predicting Gross Sales using the model.\n",
    "y_pred = model3.predict(X_poly)\n",
    "\n",
    "# Plotting the data points.\n",
    "plt.scatter(X, y, color='blue', label='Actual Data')\n",
    "\n",
    "# Plotting the regression curve.\n",
    "plt.plot(X, y_pred, color='red', label='Polynomial Regression')\n",
    "plt.xlabel('Month (Numeric)')\n",
    "plt.ylabel('Gross Sales')\n",
    "plt.legend()\n",
    "plt.title('Month vs. Gross Sales (Polynomial Regression)')\n",
    "plt.show()"
   ]
  },
  {
   "cell_type": "markdown",
   "id": "2af31a6e-eb7a-4012-bfad-a6cad984005f",
   "metadata": {},
   "source": [
    "**Insights**:\n",
    "- **Vertical Lines of Blue Dots**: The vertical lines of blue dots in the scatter plot likely represent individual data points, indicating multiple measurements for the same month. This suggests that there may not be significant curvature or non-linearity in the relationship between the month and gross sales.\n",
    "\n",
    "- **Variability**: The variability or spread of blue dots within a month indicates that gross sales values can vary from one observation to another for the same month. Some months may have consistent sales (narrow spread), while others exhibit more variability in sales (wider spread).\n",
    "\n",
    "- **Nearly Straight Descending Red Polynomial Curve**: The presence of a nearly straight, descending red polynomial curve indicates an attempt to fit the data. However, it doesn't show pronounced curvature, suggesting that the change in gross sales across different months follows a relatively linear or nearly linear trend, with a slight decrease over time.\n",
    "\n",
    "- **Slight Descending Trend**: The slight descending flow of the curve suggests a gradual decrease in gross sales as the months advance, but this decrease is not very pronounced.\n",
    "\n",
    "**Interpretation**:\n",
    "Given the characteristics of the plot, it's likely that a lower-degree polynomial (e.g., linear) provides a reasonable fit to the data. The nearly straight-line shape aligns with the assumption of a linear or nearly linear relationship between the month and gross sales."
   ]
  },
  {
   "cell_type": "markdown",
   "id": "0685aa67-fa6c-42ed-a393-ef16a5291e36",
   "metadata": {},
   "source": [
    "#### 6.3 Polynomial Relationship Assessment\n",
    "- Determining if there's a polynomial relationship between the month and gross sales."
   ]
  },
  {
   "cell_type": "markdown",
   "id": "5d9ca5c6-2ee8-4495-a277-1cdfd059a7f7",
   "metadata": {},
   "source": [
    "##### Interpreting the model\n",
    "Analyzing model's performance"
   ]
  },
  {
   "cell_type": "code",
   "execution_count": 39,
   "id": "e3da22d0-e239-4aec-9a64-9976bbd73759",
   "metadata": {},
   "outputs": [
    {
     "name": "stdout",
     "output_type": "stream",
     "text": [
      "R-squared: 0.0018561696533685446\n",
      "Mean Squared Error: 69009094552.2962\n"
     ]
    }
   ],
   "source": [
    "r_squared = r2_score(y, y_pred)\n",
    "mse = mean_squared_error(y, y_pred)\n",
    "\n",
    "# Print performance metrics\n",
    "print(f'R-squared: {r_squared}')\n",
    "print(f'Mean Squared Error: {mse}')"
   ]
  },
  {
   "cell_type": "markdown",
   "id": "ff9fa4fe-0793-4921-b25f-d48ac8f9e11c",
   "metadata": {},
   "source": [
    "\r\n",
    "In assessing the polynomial regression model's performance, which aims to determine the relationship between the month of the year and Gross Sales, we obtained the following metrics:\r\n",
    "\r\n",
    "- **R-squared (R2): 0.0019**\r\n",
    "  - R-squared measures how well the model fits the data. An R2 value close to zero (0.0019 in this case) suggests that the month of the year, treated as a categorical variable, doesn't explain much of the variation in Gross Sales. The model's fit to the data is poor.\r\n",
    "\r\n",
    "- **Mean Squared Error (MSE): 69,009,094,552.30**\r\n",
    "  - MSE quantifies the average squared difference between predicted and actual values. A high MSE value (as observed here) indicates that the model's predictions significantly deviate from actual Gross Sales values, further emphasizing its poor perforon errors.\r\n",
    "\r\n",
    "In simpler terms, these metrics indicate that the polynomial regression model does not effectively capture the patterns or trends in the data. There doesn't seem to be a strong polynomial relationship between the month and Gross Sales. Alternative approaches or variables may be worth exploring to better explain variations in Gross Sales.\r\n"
   ]
  },
  {
   "cell_type": "markdown",
   "id": "c0d56981-71f9-439c-9dec-da0c08c69561",
   "metadata": {},
   "source": [
    "## Conclusion\r\n",
    "In conclusion, this data analytics project has provided valuable insights into the company's financial data, focusing on sales transactions and profitability. The analysis encompassed discount impact, profit margins, relationships between discount levels and profit, product pricing, and the effect of the month on gross sales. These insights empower the company to make informed decisions, optimize sales strategies, and ultimately enhance profitability\n",
    "\r\n"
   ]
  },
  {
   "cell_type": "markdown",
   "id": "5deb0183-48dd-4a16-baf8-aa69648032a3",
   "metadata": {},
   "source": [
    "## Author: Anuvansh Kumar\n",
    "## Date: 19-09-2023"
   ]
  },
  {
   "cell_type": "code",
   "execution_count": null,
   "id": "fe7413bb-f36a-43d1-acd9-04af59c68d0b",
   "metadata": {},
   "outputs": [],
   "source": []
  }
 ],
 "metadata": {
  "kernelspec": {
   "display_name": "Python 3 (ipykernel)",
   "language": "python",
   "name": "python3"
  },
  "language_info": {
   "codemirror_mode": {
    "name": "ipython",
    "version": 3
   },
   "file_extension": ".py",
   "mimetype": "text/x-python",
   "name": "python",
   "nbconvert_exporter": "python",
   "pygments_lexer": "ipython3",
   "version": "3.11.4"
  }
 },
 "nbformat": 4,
 "nbformat_minor": 5
}
